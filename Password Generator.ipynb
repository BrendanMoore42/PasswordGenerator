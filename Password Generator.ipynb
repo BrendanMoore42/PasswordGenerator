{
 "cells": [
  {
   "cell_type": "code",
   "execution_count": 10,
   "id": "0a57dae7",
   "metadata": {
    "ExecuteTime": {
     "end_time": "2023-06-21T19:07:10.969031Z",
     "start_time": "2023-06-21T19:07:10.956158Z"
    }
   },
   "outputs": [
    {
     "name": "stdout",
     "output_type": "stream",
     "text": [
      "Alphanumeric list: ['a', 'b', 'c', 'd', 'e', 'f', 'g', 'h', 'i', 'j', 'k', 'l', 'm', 'n', 'o', 'p', 'q', 'r', 's', 't', 'u', 'v', 'w', 'x', 'y', 'z', 'A', 'B', 'C', 'D', 'E', 'F', 'G', 'H', 'I', 'J', 'K', 'L', 'M', 'N', 'O', 'P', 'Q', 'R', 'S', 'T', 'U', 'V', 'W', 'X', 'Y', 'Z', 0, 1, 2, 3, 4, 5, 6, 7, 8, 9, '!', '?', '_']\n",
      "\n",
      "8: no seed: bO?Pd59F, seed=16: U8EsAoCa\n",
      "9: no seed: QM9ZWzJVc, seed=18: xpQCv?mFO\n",
      "10: no seed: Cd1spDaQ8h, seed=20: tHRO25g3uK\n",
      "11: no seed: UMIl0ibpzvu, seed=22: rFbNClShVPw\n",
      "12: no seed: CdOSz3wbf462, seed=24: Xxnkm9QRfTWj\n",
      "13: no seed: B?4V!vw8XpQcG, seed=26: zABMIdiXWEcUR\n",
      "14: no seed: hUtRE9!ym60ogP, seed=28: oqIMTl_iODWAn0\n",
      "15: no seed: d9iukOfJb57YtLU, seed=30: LdNP0nq?zy9ifDa\n",
      "16: no seed: IpCFBAZ4rkqSt8Ye, seed=32: jB_tS5pFbUcguGvd\n",
      "17: no seed: n1XoLvVUmGSzaN04E, seed=34: Td1o5b4yxeBtvgLGj\n",
      "18: no seed: Y2lCQ4!PtdgufsD3a_, seed=36: Qh!bZ67YsfaGOlprUP\n",
      "19: no seed: DPlHnfko7XMuBiNeE!x, seed=38: 12WUgexSD6cMQkLwurT\n",
      "20: no seed: Rthry69mxHl8c0S5QoqP, seed=40: 6epsQO8niWwrVCbH04dP\n"
     ]
    }
   ],
   "source": [
    "def gen_password(length=8, seed=None, print_alph=False):\n",
    "    \"\"\"Password Generator: Specify password length and return a string\"\"\"\n",
    "    import string  # use string package to grab alpahabet in lower and uppercase\n",
    "    import random  # random package can sample n items from a list\n",
    "    \n",
    "    # Create a list of all characters plus numbers plus extra symbols\n",
    "    alph = list(string.ascii_letters)+list(range(0, 10)) + [\"!\", \"?\", \"_\"]\n",
    "    \n",
    "    # Print to console the alphanumeric list if print_alph is true\n",
    "    if print_alph:\n",
    "        print(f\"Alphanumeric list: {alph}\\n\")\n",
    "    \n",
    "    # If a seed is given assign that, otherwise seed will be random\n",
    "    random.seed(seed) if seed else random.seed()\n",
    "    \n",
    "    # Sample n letters as specified in variable length and join as single string\n",
    "    password = \"\".join(map(str, random.sample(alph, length)))\n",
    "    \n",
    "    # Output new password\n",
    "    return password\n",
    "\n",
    "# Loop through a range and print a password with and without seed\n",
    "for i, x in enumerate(range(8, 21)):  # Enumerate a list to start a count at 0\n",
    "    # If first iteration of loop, print the alphanumeric list\n",
    "    print_alph = True if i == 0 else False\n",
    "    \n",
    "    # Run function, assign output to variable \"pw\"\n",
    "    pw = gen_password(length=x, seed=None, print_alph=print_alph)\n",
    "    pw_seed = gen_password(length=x, seed=x*2)\n",
    "    \n",
    "    # Print to console each password\n",
    "    print(f\"{x}: no seed: {pw}, seed={x*2}: {pw_seed}\")\n",
    "    "
   ]
  },
  {
   "cell_type": "code",
   "execution_count": null,
   "id": "4a2a3b1e",
   "metadata": {},
   "outputs": [],
   "source": []
  }
 ],
 "metadata": {
  "kernelspec": {
   "display_name": "Python 3 (ipykernel)",
   "language": "python",
   "name": "python3"
  },
  "language_info": {
   "codemirror_mode": {
    "name": "ipython",
    "version": 3
   },
   "file_extension": ".py",
   "mimetype": "text/x-python",
   "name": "python",
   "nbconvert_exporter": "python",
   "pygments_lexer": "ipython3",
   "version": "3.11.4"
  }
 },
 "nbformat": 4,
 "nbformat_minor": 5
}
